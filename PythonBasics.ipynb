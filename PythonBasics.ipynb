{
  "nbformat": 4,
  "nbformat_minor": 0,
  "metadata": {
    "colab": {
      "name": "PythonBasics.ipynb",
      "provenance": [],
      "collapsed_sections": []
    },
    "kernelspec": {
      "name": "python3",
      "display_name": "Python 3"
    },
    "language_info": {
      "name": "python"
    }
  },
  "cells": [
    {
      "cell_type": "code",
      "execution_count": 1,
      "metadata": {
        "id": "4hHdaXD02QFo"
      },
      "outputs": [],
      "source": [
        "x=20"
      ]
    },
    {
      "cell_type": "code",
      "source": [
        "if x>10 :\n",
        "  print(\"x>10\")"
      ],
      "metadata": {
        "colab": {
          "base_uri": "https://localhost:8080/"
        },
        "id": "fjUmUwc32WhI",
        "outputId": "c373bac8-6de0-4c94-e091-9e41a86ba0f7"
      },
      "execution_count": 2,
      "outputs": [
        {
          "output_type": "stream",
          "name": "stdout",
          "text": [
            "x>10\n"
          ]
        }
      ]
    },
    {
      "cell_type": "code",
      "source": [
        "x=20"
      ],
      "metadata": {
        "id": "hZJOI0FI2riw"
      },
      "execution_count": 3,
      "outputs": []
    },
    {
      "cell_type": "code",
      "source": [
        "if x>10 :\n",
        "  print(\"x is greater than 10\")\n",
        "if x<10 : \n",
        "  print (\"x is less than 10 \") \n",
        "if x==10 :\n",
        "  print(\"x is equal to 10 \")\n",
        "  \n"
      ],
      "metadata": {
        "colab": {
          "base_uri": "https://localhost:8080/"
        },
        "id": "_Gk_LxHH3HVH",
        "outputId": "7a916f9f-e734-48b3-ad45-b32e65cdb4c8"
      },
      "execution_count": 4,
      "outputs": [
        {
          "output_type": "stream",
          "name": "stdout",
          "text": [
            "x is greater than 10\n"
          ]
        }
      ]
    },
    {
      "cell_type": "code",
      "source": [
        "x=int(input(\" enter your marks \"))\n",
        "if x<100 :\n",
        "  print(\"failed\")\n",
        "if x==100 :\n",
        "  print(\"just pass\")   \n",
        "if x>100 :\n",
        "  print(\"passed\")\n",
        "  "
      ],
      "metadata": {
        "colab": {
          "base_uri": "https://localhost:8080/"
        },
        "id": "t_Rio6_U3lZn",
        "outputId": "cb428fac-eb54-4950-ef19-6cc901a178c4"
      },
      "execution_count": 5,
      "outputs": [
        {
          "output_type": "stream",
          "name": "stdout",
          "text": [
            " enter your marks 152\n",
            "passed\n"
          ]
        }
      ]
    },
    {
      "cell_type": "code",
      "source": [
        "inc.ome= int(input(\"enter your taxable income in india\"))\n",
        "if income<=250000 :\n",
        "  print(\"tax not needed\")\n",
        "if income>=250000 :\n",
        "  print(income*10/100)\n"
      ],
      "metadata": {
        "colab": {
          "base_uri": "https://localhost:8080/"
        },
        "id": "hIzmep7a-rjZ",
        "outputId": "ee1c75d4-b377-4184-ce2a-84c8719241cd"
      },
      "execution_count": 6,
      "outputs": [
        {
          "output_type": "stream",
          "name": "stdout",
          "text": [
            "enter your taxable income in india356000\n",
            "35600.0\n"
          ]
        }
      ]
    },
    {
      "cell_type": "code",
      "source": [
        ""
      ],
      "metadata": {
        "id": "zGDkaPj0FZ71"
      },
      "execution_count": 6,
      "outputs": []
    }
  ]
}